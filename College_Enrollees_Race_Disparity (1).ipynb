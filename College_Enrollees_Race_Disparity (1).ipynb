{
 "cells": [
  {
   "cell_type": "code",
   "execution_count": 1,
   "metadata": {},
   "outputs": [],
   "source": [
    "import warnings; \n",
    "warnings.simplefilter('ignore')"
   ]
  },
  {
   "cell_type": "code",
   "execution_count": 2,
   "metadata": {},
   "outputs": [],
   "source": [
    "#Import libraries\n",
    "\n",
    "import numpy as np\n",
    "import pandas as pd\n",
    "import seaborn as sn\n",
    "from datetime import datetime as dt\n",
    "from matplotlib import pyplot as plt\n",
    "#from fbprophet import Prophet\n",
    "pd.options.display.float_format = '{:,.2f}'.format\n",
    "pd.set_option('display.width', 200)"
   ]
  },
  {
   "cell_type": "code",
   "execution_count": 3,
   "metadata": {},
   "outputs": [],
   "source": [
    "# Reading File\n",
    "df = pd.read_csv('State_University_of_New_York__SUNY__Trends_in_Enrollment_of_Students_by_Race_Ethnicity_and_by_SUNY_Sector__Beginning_Fall_2002.csv')"
   ]
  },
  {
   "cell_type": "code",
   "execution_count": 4,
   "metadata": {},
   "outputs": [
    {
     "data": {
      "text/html": [
       "<div>\n",
       "<style scoped>\n",
       "    .dataframe tbody tr th:only-of-type {\n",
       "        vertical-align: middle;\n",
       "    }\n",
       "\n",
       "    .dataframe tbody tr th {\n",
       "        vertical-align: top;\n",
       "    }\n",
       "\n",
       "    .dataframe thead th {\n",
       "        text-align: right;\n",
       "    }\n",
       "</style>\n",
       "<table border=\"1\" class=\"dataframe\">\n",
       "  <thead>\n",
       "    <tr style=\"text-align: right;\">\n",
       "      <th></th>\n",
       "      <th>Term</th>\n",
       "      <th>Institution Sector</th>\n",
       "      <th>Total Enrollment</th>\n",
       "      <th>White</th>\n",
       "      <th>Black or African American</th>\n",
       "      <th>Hispanic/Latino</th>\n",
       "      <th>American Indian or Alaska Native</th>\n",
       "      <th>Native Hawaiian or Other Pacific Islander</th>\n",
       "      <th>Two or More Races</th>\n",
       "      <th>Asian</th>\n",
       "      <th>Non-resident Alien</th>\n",
       "      <th>Unknown</th>\n",
       "    </tr>\n",
       "  </thead>\n",
       "  <tbody>\n",
       "    <tr>\n",
       "      <th>0</th>\n",
       "      <td>Fall 2019</td>\n",
       "      <td>Community Colleges</td>\n",
       "      <td>192959</td>\n",
       "      <td>109000</td>\n",
       "      <td>22626</td>\n",
       "      <td>31531</td>\n",
       "      <td>994</td>\n",
       "      <td>255</td>\n",
       "      <td>5243</td>\n",
       "      <td>8386</td>\n",
       "      <td>2607</td>\n",
       "      <td>12317</td>\n",
       "    </tr>\n",
       "    <tr>\n",
       "      <th>1</th>\n",
       "      <td>Fall 2019</td>\n",
       "      <td>Comprehensive Colleges</td>\n",
       "      <td>83674</td>\n",
       "      <td>51819</td>\n",
       "      <td>10215</td>\n",
       "      <td>11663</td>\n",
       "      <td>306</td>\n",
       "      <td>88</td>\n",
       "      <td>2293</td>\n",
       "      <td>2893</td>\n",
       "      <td>1635</td>\n",
       "      <td>2762</td>\n",
       "    </tr>\n",
       "    <tr>\n",
       "      <th>2</th>\n",
       "      <td>Fall 2019</td>\n",
       "      <td>Doctoral Degree Granting Institutions</td>\n",
       "      <td>112265</td>\n",
       "      <td>51837</td>\n",
       "      <td>9048</td>\n",
       "      <td>11151</td>\n",
       "      <td>220</td>\n",
       "      <td>59</td>\n",
       "      <td>2913</td>\n",
       "      <td>15890</td>\n",
       "      <td>16138</td>\n",
       "      <td>5009</td>\n",
       "    </tr>\n",
       "    <tr>\n",
       "      <th>3</th>\n",
       "      <td>Fall 2019</td>\n",
       "      <td>Technology Colleges</td>\n",
       "      <td>26674</td>\n",
       "      <td>16050</td>\n",
       "      <td>3336</td>\n",
       "      <td>4241</td>\n",
       "      <td>121</td>\n",
       "      <td>24</td>\n",
       "      <td>726</td>\n",
       "      <td>1234</td>\n",
       "      <td>351</td>\n",
       "      <td>591</td>\n",
       "    </tr>\n",
       "    <tr>\n",
       "      <th>4</th>\n",
       "      <td>Fall 2018</td>\n",
       "      <td>Community Colleges</td>\n",
       "      <td>199873</td>\n",
       "      <td>115352</td>\n",
       "      <td>24025</td>\n",
       "      <td>31057</td>\n",
       "      <td>1106</td>\n",
       "      <td>274</td>\n",
       "      <td>5393</td>\n",
       "      <td>8393</td>\n",
       "      <td>2670</td>\n",
       "      <td>11603</td>\n",
       "    </tr>\n",
       "  </tbody>\n",
       "</table>\n",
       "</div>"
      ],
      "text/plain": [
       "       Term                      Institution Sector  Total Enrollment   White  Black or African American  Hispanic/Latino  American Indian or Alaska Native  \\\n",
       "0  Fall 2019                     Community Colleges            192959  109000                      22626            31531                               994   \n",
       "1  Fall 2019                 Comprehensive Colleges             83674   51819                      10215            11663                               306   \n",
       "2  Fall 2019  Doctoral Degree Granting Institutions            112265   51837                       9048            11151                               220   \n",
       "3  Fall 2019                    Technology Colleges             26674   16050                       3336             4241                               121   \n",
       "4  Fall 2018                     Community Colleges            199873  115352                      24025            31057                              1106   \n",
       "\n",
       "   Native Hawaiian or Other Pacific Islander  Two or More Races  Asian  Non-resident Alien  Unknown  \n",
       "0                                        255               5243   8386                2607    12317  \n",
       "1                                         88               2293   2893                1635     2762  \n",
       "2                                         59               2913  15890               16138     5009  \n",
       "3                                         24                726   1234                 351      591  \n",
       "4                                        274               5393   8393                2670    11603  "
      ]
     },
     "execution_count": 4,
     "metadata": {},
     "output_type": "execute_result"
    }
   ],
   "source": [
    "#look at data\n",
    "df.head()"
   ]
  },
  {
   "cell_type": "code",
   "execution_count": 5,
   "metadata": {},
   "outputs": [
    {
     "name": "stdout",
     "output_type": "stream",
     "text": [
      "<class 'pandas.core.frame.DataFrame'>\n",
      "RangeIndex: 72 entries, 0 to 71\n",
      "Data columns (total 12 columns):\n",
      " #   Column                                     Non-Null Count  Dtype \n",
      "---  ------                                     --------------  ----- \n",
      " 0   Term                                       72 non-null     object\n",
      " 1   Institution Sector                         72 non-null     object\n",
      " 2   Total Enrollment                           72 non-null     int64 \n",
      " 3   White                                      72 non-null     int64 \n",
      " 4   Black or African American                  72 non-null     int64 \n",
      " 5   Hispanic/Latino                            72 non-null     int64 \n",
      " 6   American Indian or Alaska Native           72 non-null     int64 \n",
      " 7   Native Hawaiian or Other Pacific Islander  72 non-null     int64 \n",
      " 8   Two or More Races                          72 non-null     int64 \n",
      " 9   Asian                                      72 non-null     int64 \n",
      " 10  Non-resident Alien                         72 non-null     int64 \n",
      " 11  Unknown                                    72 non-null     int64 \n",
      "dtypes: int64(10), object(2)\n",
      "memory usage: 6.9+ KB\n"
     ]
    }
   ],
   "source": [
    "#look at data\n",
    "df.info()"
   ]
  },
  {
   "cell_type": "code",
   "execution_count": 6,
   "metadata": {},
   "outputs": [
    {
     "data": {
      "text/html": [
       "<div>\n",
       "<style scoped>\n",
       "    .dataframe tbody tr th:only-of-type {\n",
       "        vertical-align: middle;\n",
       "    }\n",
       "\n",
       "    .dataframe tbody tr th {\n",
       "        vertical-align: top;\n",
       "    }\n",
       "\n",
       "    .dataframe thead th {\n",
       "        text-align: right;\n",
       "    }\n",
       "</style>\n",
       "<table border=\"1\" class=\"dataframe\">\n",
       "  <thead>\n",
       "    <tr style=\"text-align: right;\">\n",
       "      <th></th>\n",
       "      <th>Term</th>\n",
       "      <th>Institution Sector</th>\n",
       "    </tr>\n",
       "  </thead>\n",
       "  <tbody>\n",
       "    <tr>\n",
       "      <th>count</th>\n",
       "      <td>72</td>\n",
       "      <td>72</td>\n",
       "    </tr>\n",
       "    <tr>\n",
       "      <th>unique</th>\n",
       "      <td>18</td>\n",
       "      <td>4</td>\n",
       "    </tr>\n",
       "    <tr>\n",
       "      <th>top</th>\n",
       "      <td>Fall 2013</td>\n",
       "      <td>Technology Colleges</td>\n",
       "    </tr>\n",
       "    <tr>\n",
       "      <th>freq</th>\n",
       "      <td>4</td>\n",
       "      <td>18</td>\n",
       "    </tr>\n",
       "  </tbody>\n",
       "</table>\n",
       "</div>"
      ],
      "text/plain": [
       "            Term    Institution Sector\n",
       "count          72                   72\n",
       "unique         18                    4\n",
       "top     Fall 2013  Technology Colleges\n",
       "freq            4                   18"
      ]
     },
     "execution_count": 6,
     "metadata": {},
     "output_type": "execute_result"
    }
   ],
   "source": [
    "# Looking at the Summary dataframe for object type (or categorical) columns only \n",
    "df.describe(include='O')"
   ]
  },
  {
   "cell_type": "code",
   "execution_count": 7,
   "metadata": {},
   "outputs": [
    {
     "data": {
      "text/html": [
       "<div>\n",
       "<style scoped>\n",
       "    .dataframe tbody tr th:only-of-type {\n",
       "        vertical-align: middle;\n",
       "    }\n",
       "\n",
       "    .dataframe tbody tr th {\n",
       "        vertical-align: top;\n",
       "    }\n",
       "\n",
       "    .dataframe thead th {\n",
       "        text-align: right;\n",
       "    }\n",
       "</style>\n",
       "<table border=\"1\" class=\"dataframe\">\n",
       "  <thead>\n",
       "    <tr style=\"text-align: right;\">\n",
       "      <th></th>\n",
       "      <th>Total Enrollment</th>\n",
       "      <th>White</th>\n",
       "      <th>Black or African American</th>\n",
       "      <th>Hispanic/Latino</th>\n",
       "      <th>American Indian or Alaska Native</th>\n",
       "      <th>Native Hawaiian or Other Pacific Islander</th>\n",
       "      <th>Two or More Races</th>\n",
       "      <th>Asian</th>\n",
       "      <th>Non-resident Alien</th>\n",
       "      <th>Unknown</th>\n",
       "    </tr>\n",
       "  </thead>\n",
       "  <tbody>\n",
       "    <tr>\n",
       "      <th>count</th>\n",
       "      <td>72.00</td>\n",
       "      <td>72.00</td>\n",
       "      <td>72.00</td>\n",
       "      <td>72.00</td>\n",
       "      <td>72.00</td>\n",
       "      <td>72.00</td>\n",
       "      <td>72.00</td>\n",
       "      <td>72.00</td>\n",
       "      <td>72.00</td>\n",
       "      <td>72.00</td>\n",
       "    </tr>\n",
       "    <tr>\n",
       "      <th>mean</th>\n",
       "      <td>109,061.81</td>\n",
       "      <td>68,240.24</td>\n",
       "      <td>10,372.08</td>\n",
       "      <td>9,657.24</td>\n",
       "      <td>479.01</td>\n",
       "      <td>80.40</td>\n",
       "      <td>1,234.44</td>\n",
       "      <td>5,526.54</td>\n",
       "      <td>4,794.68</td>\n",
       "      <td>8,677.17</td>\n",
       "    </tr>\n",
       "    <tr>\n",
       "      <th>std</th>\n",
       "      <td>71,272.28</td>\n",
       "      <td>46,814.74</td>\n",
       "      <td>8,481.80</td>\n",
       "      <td>8,558.47</td>\n",
       "      <td>419.82</td>\n",
       "      <td>113.63</td>\n",
       "      <td>1,557.47</td>\n",
       "      <td>4,502.43</td>\n",
       "      <td>5,136.83</td>\n",
       "      <td>6,472.53</td>\n",
       "    </tr>\n",
       "    <tr>\n",
       "      <th>min</th>\n",
       "      <td>23,223.00</td>\n",
       "      <td>16,050.00</td>\n",
       "      <td>2,108.00</td>\n",
       "      <td>1,215.00</td>\n",
       "      <td>101.00</td>\n",
       "      <td>0.00</td>\n",
       "      <td>0.00</td>\n",
       "      <td>551.00</td>\n",
       "      <td>351.00</td>\n",
       "      <td>444.00</td>\n",
       "    </tr>\n",
       "    <tr>\n",
       "      <th>25%</th>\n",
       "      <td>69,800.50</td>\n",
       "      <td>42,927.75</td>\n",
       "      <td>4,800.00</td>\n",
       "      <td>3,913.25</td>\n",
       "      <td>200.25</td>\n",
       "      <td>0.00</td>\n",
       "      <td>0.00</td>\n",
       "      <td>1,671.25</td>\n",
       "      <td>1,458.75</td>\n",
       "      <td>2,528.75</td>\n",
       "    </tr>\n",
       "    <tr>\n",
       "      <th>50%</th>\n",
       "      <td>93,014.50</td>\n",
       "      <td>52,982.00</td>\n",
       "      <td>6,733.00</td>\n",
       "      <td>6,469.50</td>\n",
       "      <td>298.50</td>\n",
       "      <td>51.50</td>\n",
       "      <td>522.00</td>\n",
       "      <td>4,478.00</td>\n",
       "      <td>2,746.50</td>\n",
       "      <td>8,032.50</td>\n",
       "    </tr>\n",
       "    <tr>\n",
       "      <th>75%</th>\n",
       "      <td>132,438.50</td>\n",
       "      <td>78,795.25</td>\n",
       "      <td>12,570.25</td>\n",
       "      <td>11,772.00</td>\n",
       "      <td>584.50</td>\n",
       "      <td>89.00</td>\n",
       "      <td>2,219.00</td>\n",
       "      <td>8,683.25</td>\n",
       "      <td>5,205.25</td>\n",
       "      <td>12,939.00</td>\n",
       "    </tr>\n",
       "    <tr>\n",
       "      <th>max</th>\n",
       "      <td>249,343.00</td>\n",
       "      <td>167,280.00</td>\n",
       "      <td>28,208.00</td>\n",
       "      <td>31,531.00</td>\n",
       "      <td>1,472.00</td>\n",
       "      <td>402.00</td>\n",
       "      <td>5,393.00</td>\n",
       "      <td>15,890.00</td>\n",
       "      <td>16,850.00</td>\n",
       "      <td>25,289.00</td>\n",
       "    </tr>\n",
       "  </tbody>\n",
       "</table>\n",
       "</div>"
      ],
      "text/plain": [
       "       Total Enrollment      White  Black or African American  Hispanic/Latino  American Indian or Alaska Native  Native Hawaiian or Other Pacific Islander  Two or More Races     Asian  \\\n",
       "count             72.00      72.00                      72.00            72.00                             72.00                                      72.00              72.00     72.00   \n",
       "mean         109,061.81  68,240.24                  10,372.08         9,657.24                            479.01                                      80.40           1,234.44  5,526.54   \n",
       "std           71,272.28  46,814.74                   8,481.80         8,558.47                            419.82                                     113.63           1,557.47  4,502.43   \n",
       "min           23,223.00  16,050.00                   2,108.00         1,215.00                            101.00                                       0.00               0.00    551.00   \n",
       "25%           69,800.50  42,927.75                   4,800.00         3,913.25                            200.25                                       0.00               0.00  1,671.25   \n",
       "50%           93,014.50  52,982.00                   6,733.00         6,469.50                            298.50                                      51.50             522.00  4,478.00   \n",
       "75%          132,438.50  78,795.25                  12,570.25        11,772.00                            584.50                                      89.00           2,219.00  8,683.25   \n",
       "max          249,343.00 167,280.00                  28,208.00        31,531.00                          1,472.00                                     402.00           5,393.00 15,890.00   \n",
       "\n",
       "       Non-resident Alien   Unknown  \n",
       "count               72.00     72.00  \n",
       "mean             4,794.68  8,677.17  \n",
       "std              5,136.83  6,472.53  \n",
       "min                351.00    444.00  \n",
       "25%              1,458.75  2,528.75  \n",
       "50%              2,746.50  8,032.50  \n",
       "75%              5,205.25 12,939.00  \n",
       "max             16,850.00 25,289.00  "
      ]
     },
     "execution_count": 7,
     "metadata": {},
     "output_type": "execute_result"
    }
   ],
   "source": [
    "# Looking at a Summary dataframe for numeric columns only \n",
    "df.describe(exclude='O')"
   ]
  },
  {
   "cell_type": "code",
   "execution_count": 8,
   "metadata": {},
   "outputs": [
    {
     "name": "stdout",
     "output_type": "stream",
     "text": [
      "     Semester                            Institution  Total_Enrolled   White  Black  Hisp_Latino  AI_AN  NHPI  Mixed  Asian    NRA    Unk\n",
      "0   Fall 2019                     Community Colleges          192959  109000  22626        31531    994   255   5243   8386   2607  12317\n",
      "1   Fall 2019                 Comprehensive Colleges           83674   51819  10215        11663    306    88   2293   2893   1635   2762\n",
      "2   Fall 2019  Doctoral Degree Granting Institutions          112265   51837   9048        11151    220    59   2913  15890  16138   5009\n",
      "3   Fall 2019                    Technology Colleges           26674   16050   3336         4241    121    24    726   1234    351    591\n",
      "4   Fall 2018                     Community Colleges          199873  115352  24025        31057   1106   274   5393   8393   2670  11603\n",
      "..        ...                                    ...             ...     ...    ...          ...    ...   ...    ...    ...    ...    ...\n",
      "67  Fall 2003                    Technology Colleges           23809   17841   2122         1239    117     0      0    606    550   1334\n",
      "68  Fall 2002                     Community Colleges          198522  145595  18700        12099   1104     0      0   6003   4119  10902\n",
      "69  Fall 2002                 Comprehensive Colleges           88899   68727   5414         3699    388     0      0   1817   1867   6987\n",
      "70  Fall 2002  Doctoral Degree Granting Institutions           92295   51827   6129         4320    285     0      0   9554   8464  11716\n",
      "71  Fall 2002                    Technology Colleges           23223   17517   2108         1215    137     0      0    551    513   1182\n",
      "\n",
      "[72 rows x 12 columns]\n"
     ]
    }
   ],
   "source": [
    "#Renaming columns\n",
    "\n",
    "dataframe = df.rename(columns = {\"Term \": 'Semester', \"Institution Sector\": 'Institution', \"Total Enrollment\":  'Total_Enrolled',  \"Black or African American\" : 'Black', \"Hispanic/Latino\" : 'Hisp_Latino', \"American Indian or Alaska Native\": 'AI_AN', \"Native Hawaiian or Other Pacific Islander\": 'NHPI', \"Two or More Races\": 'Mixed', \"Non-resident Alien\": 'NRA', \"Unknown\": 'Unk'})\n",
    "print(dataframe)"
   ]
  },
  {
   "cell_type": "code",
   "execution_count": 9,
   "metadata": {},
   "outputs": [
    {
     "data": {
      "text/html": [
       "<div>\n",
       "<style scoped>\n",
       "    .dataframe tbody tr th:only-of-type {\n",
       "        vertical-align: middle;\n",
       "    }\n",
       "\n",
       "    .dataframe tbody tr th {\n",
       "        vertical-align: top;\n",
       "    }\n",
       "\n",
       "    .dataframe thead th {\n",
       "        text-align: right;\n",
       "    }\n",
       "</style>\n",
       "<table border=\"1\" class=\"dataframe\">\n",
       "  <thead>\n",
       "    <tr style=\"text-align: right;\">\n",
       "      <th></th>\n",
       "      <th>Total_Enrolled</th>\n",
       "      <th>White</th>\n",
       "      <th>Black</th>\n",
       "      <th>Hisp_Latino</th>\n",
       "      <th>AI_AN</th>\n",
       "      <th>NHPI</th>\n",
       "      <th>Mixed</th>\n",
       "      <th>Asian</th>\n",
       "      <th>NRA</th>\n",
       "      <th>Unk</th>\n",
       "    </tr>\n",
       "  </thead>\n",
       "  <tbody>\n",
       "    <tr>\n",
       "      <th>count</th>\n",
       "      <td>72.00</td>\n",
       "      <td>72.00</td>\n",
       "      <td>72.00</td>\n",
       "      <td>72.00</td>\n",
       "      <td>72.00</td>\n",
       "      <td>72.00</td>\n",
       "      <td>72.00</td>\n",
       "      <td>72.00</td>\n",
       "      <td>72.00</td>\n",
       "      <td>72.00</td>\n",
       "    </tr>\n",
       "    <tr>\n",
       "      <th>mean</th>\n",
       "      <td>109,061.81</td>\n",
       "      <td>68,240.24</td>\n",
       "      <td>10,372.08</td>\n",
       "      <td>9,657.24</td>\n",
       "      <td>479.01</td>\n",
       "      <td>80.40</td>\n",
       "      <td>1,234.44</td>\n",
       "      <td>5,526.54</td>\n",
       "      <td>4,794.68</td>\n",
       "      <td>8,677.17</td>\n",
       "    </tr>\n",
       "    <tr>\n",
       "      <th>std</th>\n",
       "      <td>71,272.28</td>\n",
       "      <td>46,814.74</td>\n",
       "      <td>8,481.80</td>\n",
       "      <td>8,558.47</td>\n",
       "      <td>419.82</td>\n",
       "      <td>113.63</td>\n",
       "      <td>1,557.47</td>\n",
       "      <td>4,502.43</td>\n",
       "      <td>5,136.83</td>\n",
       "      <td>6,472.53</td>\n",
       "    </tr>\n",
       "    <tr>\n",
       "      <th>min</th>\n",
       "      <td>23,223.00</td>\n",
       "      <td>16,050.00</td>\n",
       "      <td>2,108.00</td>\n",
       "      <td>1,215.00</td>\n",
       "      <td>101.00</td>\n",
       "      <td>0.00</td>\n",
       "      <td>0.00</td>\n",
       "      <td>551.00</td>\n",
       "      <td>351.00</td>\n",
       "      <td>444.00</td>\n",
       "    </tr>\n",
       "    <tr>\n",
       "      <th>25%</th>\n",
       "      <td>69,800.50</td>\n",
       "      <td>42,927.75</td>\n",
       "      <td>4,800.00</td>\n",
       "      <td>3,913.25</td>\n",
       "      <td>200.25</td>\n",
       "      <td>0.00</td>\n",
       "      <td>0.00</td>\n",
       "      <td>1,671.25</td>\n",
       "      <td>1,458.75</td>\n",
       "      <td>2,528.75</td>\n",
       "    </tr>\n",
       "    <tr>\n",
       "      <th>50%</th>\n",
       "      <td>93,014.50</td>\n",
       "      <td>52,982.00</td>\n",
       "      <td>6,733.00</td>\n",
       "      <td>6,469.50</td>\n",
       "      <td>298.50</td>\n",
       "      <td>51.50</td>\n",
       "      <td>522.00</td>\n",
       "      <td>4,478.00</td>\n",
       "      <td>2,746.50</td>\n",
       "      <td>8,032.50</td>\n",
       "    </tr>\n",
       "    <tr>\n",
       "      <th>75%</th>\n",
       "      <td>132,438.50</td>\n",
       "      <td>78,795.25</td>\n",
       "      <td>12,570.25</td>\n",
       "      <td>11,772.00</td>\n",
       "      <td>584.50</td>\n",
       "      <td>89.00</td>\n",
       "      <td>2,219.00</td>\n",
       "      <td>8,683.25</td>\n",
       "      <td>5,205.25</td>\n",
       "      <td>12,939.00</td>\n",
       "    </tr>\n",
       "    <tr>\n",
       "      <th>max</th>\n",
       "      <td>249,343.00</td>\n",
       "      <td>167,280.00</td>\n",
       "      <td>28,208.00</td>\n",
       "      <td>31,531.00</td>\n",
       "      <td>1,472.00</td>\n",
       "      <td>402.00</td>\n",
       "      <td>5,393.00</td>\n",
       "      <td>15,890.00</td>\n",
       "      <td>16,850.00</td>\n",
       "      <td>25,289.00</td>\n",
       "    </tr>\n",
       "  </tbody>\n",
       "</table>\n",
       "</div>"
      ],
      "text/plain": [
       "       Total_Enrolled      White     Black  Hisp_Latino    AI_AN   NHPI    Mixed     Asian       NRA       Unk\n",
       "count           72.00      72.00     72.00        72.00    72.00  72.00    72.00     72.00     72.00     72.00\n",
       "mean       109,061.81  68,240.24 10,372.08     9,657.24   479.01  80.40 1,234.44  5,526.54  4,794.68  8,677.17\n",
       "std         71,272.28  46,814.74  8,481.80     8,558.47   419.82 113.63 1,557.47  4,502.43  5,136.83  6,472.53\n",
       "min         23,223.00  16,050.00  2,108.00     1,215.00   101.00   0.00     0.00    551.00    351.00    444.00\n",
       "25%         69,800.50  42,927.75  4,800.00     3,913.25   200.25   0.00     0.00  1,671.25  1,458.75  2,528.75\n",
       "50%         93,014.50  52,982.00  6,733.00     6,469.50   298.50  51.50   522.00  4,478.00  2,746.50  8,032.50\n",
       "75%        132,438.50  78,795.25 12,570.25    11,772.00   584.50  89.00 2,219.00  8,683.25  5,205.25 12,939.00\n",
       "max        249,343.00 167,280.00 28,208.00    31,531.00 1,472.00 402.00 5,393.00 15,890.00 16,850.00 25,289.00"
      ]
     },
     "execution_count": 9,
     "metadata": {},
     "output_type": "execute_result"
    }
   ],
   "source": [
    "# Confirming the Summary for the new dataframe for object type (or categorical) columns only \n",
    "\n",
    "dataframe.describe(exclude='O')"
   ]
  },
  {
   "cell_type": "code",
   "execution_count": 10,
   "metadata": {},
   "outputs": [
    {
     "data": {
      "text/html": [
       "<div>\n",
       "<style scoped>\n",
       "    .dataframe tbody tr th:only-of-type {\n",
       "        vertical-align: middle;\n",
       "    }\n",
       "\n",
       "    .dataframe tbody tr th {\n",
       "        vertical-align: top;\n",
       "    }\n",
       "\n",
       "    .dataframe thead th {\n",
       "        text-align: right;\n",
       "    }\n",
       "</style>\n",
       "<table border=\"1\" class=\"dataframe\">\n",
       "  <thead>\n",
       "    <tr style=\"text-align: right;\">\n",
       "      <th></th>\n",
       "      <th>Semester</th>\n",
       "      <th>Institution</th>\n",
       "    </tr>\n",
       "  </thead>\n",
       "  <tbody>\n",
       "    <tr>\n",
       "      <th>count</th>\n",
       "      <td>72</td>\n",
       "      <td>72</td>\n",
       "    </tr>\n",
       "    <tr>\n",
       "      <th>unique</th>\n",
       "      <td>18</td>\n",
       "      <td>4</td>\n",
       "    </tr>\n",
       "    <tr>\n",
       "      <th>top</th>\n",
       "      <td>Fall 2013</td>\n",
       "      <td>Technology Colleges</td>\n",
       "    </tr>\n",
       "    <tr>\n",
       "      <th>freq</th>\n",
       "      <td>4</td>\n",
       "      <td>18</td>\n",
       "    </tr>\n",
       "  </tbody>\n",
       "</table>\n",
       "</div>"
      ],
      "text/plain": [
       "         Semester          Institution\n",
       "count          72                   72\n",
       "unique         18                    4\n",
       "top     Fall 2013  Technology Colleges\n",
       "freq            4                   18"
      ]
     },
     "execution_count": 10,
     "metadata": {},
     "output_type": "execute_result"
    }
   ],
   "source": [
    "# Confirming the  Summary dataframe for numeric columns only \n",
    "dataframe.describe(include='O')"
   ]
  },
  {
   "cell_type": "code",
   "execution_count": 11,
   "metadata": {},
   "outputs": [
    {
     "data": {
      "text/plain": [
       "Index(['Semester', 'Institution', 'Total_Enrolled', 'White', 'Black', 'Hisp_Latino', 'AI_AN', 'NHPI', 'Mixed', 'Asian', 'NRA', 'Unk'], dtype='object')"
      ]
     },
     "execution_count": 11,
     "metadata": {},
     "output_type": "execute_result"
    }
   ],
   "source": [
    "#Looking at new columns\n",
    "dataframe.columns"
   ]
  },
  {
   "cell_type": "code",
   "execution_count": 12,
   "metadata": {},
   "outputs": [
    {
     "data": {
      "text/plain": [
       "72"
      ]
     },
     "execution_count": 12,
     "metadata": {},
     "output_type": "execute_result"
    }
   ],
   "source": [
    "dataframe.Institution.count()"
   ]
  },
  {
   "cell_type": "code",
   "execution_count": 13,
   "metadata": {},
   "outputs": [
    {
     "data": {
      "image/png": "[encoded data removed]",
      "text/plain": [
       "<Figure size 432x288 with 1 Axes>"
      ]
     },
     "metadata": {
      "needs_background": "light"
     },
     "output_type": "display_data"
    }
   ],
   "source": [
    "# Data Visualization By Whites\n",
    "\n",
    "plt.bar(dataframe.Institution, dataframe.White)\n",
    "plt.title('College Attendance With White')\n",
    "plt.xticks(rotation=90)\n",
    "plt.show()\n"
   ]
  },
  {
   "cell_type": "code",
   "execution_count": 14,
   "metadata": {},
   "outputs": [
    {
     "data": {
      "image/png": "[encoded data removed]",
      "text/plain": [
       "<Figure size 432x288 with 1 Axes>"
      ]
     },
     "metadata": {
      "needs_background": "light"
     },
     "output_type": "display_data"
    }
   ],
   "source": [
    "# Data Visualization By Blacks\n",
    "\n",
    "plt.bar(dataframe.Institution, dataframe.Black)\n",
    "plt.title('College Attendance With Blacks')\n",
    "plt.xticks(rotation=90)\n",
    "plt.show()\n",
    "\n"
   ]
  },
  {
   "cell_type": "code",
   "execution_count": 15,
   "metadata": {},
   "outputs": [
    {
     "data": {
      "image/png": "[encoded data removed]",
      "text/plain": [
       "<Figure size 432x288 with 1 Axes>"
      ]
     },
     "metadata": {
      "needs_background": "light"
     },
     "output_type": "display_data"
    }
   ],
   "source": [
    "# Data Visualization By Hispanic/Latino\n",
    "\n",
    "plt.bar(dataframe.Institution, dataframe.Hisp_Latino)\n",
    "plt.title('College Attendance With Hispanic/Latino')\n",
    "plt.xticks(rotation=90)\n",
    "plt.show()\n",
    "\n"
   ]
  },
  {
   "cell_type": "code",
   "execution_count": 16,
   "metadata": {},
   "outputs": [
    {
     "data": {
      "image/png": "[encoded data removed]",
      "text/plain": [
       "<Figure size 432x288 with 1 Axes>"
      ]
     },
     "metadata": {
      "needs_background": "light"
     },
     "output_type": "display_data"
    }
   ],
   "source": [
    "# Data Visualization By Mixed Race\n",
    "\n",
    "plt.bar(dataframe.Institution, dataframe.Mixed)\n",
    "plt.title('College Attendance With Mixed Race')\n",
    "plt.xticks(rotation=90)\n",
    "plt.show()\n"
   ]
  },
  {
   "cell_type": "code",
   "execution_count": 17,
   "metadata": {},
   "outputs": [
    {
     "data": {
      "image/png": "[encoded data removed]",
      "text/plain": [
       "<Figure size 432x288 with 1 Axes>"
      ]
     },
     "metadata": {
      "needs_background": "light"
     },
     "output_type": "display_data"
    }
   ],
   "source": [
    "# Data Visualization By Asian\n",
    "\n",
    "plt.bar(dataframe.Institution, dataframe.Asian)\n",
    "plt.title('College Attendance With Asian')\n",
    "plt.xticks(rotation=90)\n",
    "plt.show()\n",
    "         "
   ]
  },
  {
   "cell_type": "code",
   "execution_count": 18,
   "metadata": {},
   "outputs": [
    {
     "data": {
      "image/png": "[encoded data removed]",
      "text/plain": [
       "<Figure size 432x288 with 1 Axes>"
      ]
     },
     "metadata": {
      "needs_background": "light"
     },
     "output_type": "display_data"
    }
   ],
   "source": [
    "# Data Visualization By Native Hawaiian or Other Pacific Islander\n",
    "\n",
    "plt.bar(dataframe.Institution, dataframe.NHPI)\n",
    "plt.title('College Attendance With Native Hawaiian or Other Pacific Islander')\n",
    "plt.xticks(rotation=90)\n",
    "plt.show()\n"
   ]
  },
  {
   "cell_type": "code",
   "execution_count": 19,
   "metadata": {},
   "outputs": [
    {
     "data": {
      "image/png": "[encoded data removed]",
      "text/plain": [
       "<Figure size 432x288 with 1 Axes>"
      ]
     },
     "metadata": {
      "needs_background": "light"
     },
     "output_type": "display_data"
    }
   ],
   "source": [
    "# Data Visualization By Non-resident Alien\n",
    "\n",
    "plt.bar(dataframe.Institution, dataframe.NRA)\n",
    "plt.title('College Attendance With Non-resident Alien')\n",
    "plt.xticks(rotation=90)\n",
    "plt.show()"
   ]
  },
  {
   "cell_type": "code",
   "execution_count": 20,
   "metadata": {},
   "outputs": [
    {
     "data": {
      "image/png": "[encoded data removed]",
      "text/plain": [
       "<Figure size 432x288 with 1 Axes>"
      ]
     },
     "metadata": {
      "needs_background": "light"
     },
     "output_type": "display_data"
    }
   ],
   "source": [
    "# Data Visualization By Non-resident Alien\n",
    "\n",
    "plt.bar(dataframe.Institution, dataframe.Unk)\n",
    "plt.title('College Attendance With Unknown')\n",
    "plt.xticks(rotation=90)\n",
    "plt.show()\n",
    "          "
   ]
  },
  {
   "cell_type": "markdown",
   "metadata": {},
   "source": [
    "Whites, Blacks, Hispanic/Latino, Mixed Race, Native Hawaiian or Other Pacific Islander attend more Community College\n",
    "\n",
    "Asians and Non Resident Alien tend to obtain Doctoral Degrees\n"
   ]
  },
  {
   "cell_type": "code",
   "execution_count": 21,
   "metadata": {},
   "outputs": [
    {
     "data": {
      "text/plain": [
       "Index(['Semester', 'Institution', 'Total_Enrolled', 'White', 'Black', 'Hisp_Latino', 'AI_AN', 'NHPI', 'Mixed', 'Asian', 'NRA', 'Unk'], dtype='object')"
      ]
     },
     "execution_count": 21,
     "metadata": {},
     "output_type": "execute_result"
    }
   ],
   "source": [
    "#Looking at new columns\n",
    "dataframe.columns"
   ]
  },
  {
   "cell_type": "code",
   "execution_count": 22,
   "metadata": {},
   "outputs": [
    {
     "data": {
      "text/plain": [
       "0     Fall 2019\n",
       "1     Fall 2019\n",
       "2     Fall 2019\n",
       "3     Fall 2019\n",
       "4     Fall 2018\n",
       "        ...    \n",
       "67    Fall 2003\n",
       "68    Fall 2002\n",
       "69    Fall 2002\n",
       "70    Fall 2002\n",
       "71    Fall 2002\n",
       "Name: Semester, Length: 72, dtype: object"
      ]
     },
     "execution_count": 22,
     "metadata": {},
     "output_type": "execute_result"
    }
   ],
   "source": [
    "dataframe.Semester"
   ]
  },
  {
   "cell_type": "code",
   "execution_count": 23,
   "metadata": {},
   "outputs": [
    {
     "name": "stdout",
     "output_type": "stream",
     "text": [
      "\n",
      " After adding two new columns : \n",
      "      Semester                            Institution  Total_Enrolled   White  Black  Hisp_Latino  AI_AN  NHPI  Mixed  Asian    NRA    Unk Semester_Term  Year\n",
      "0   Fall 2019                     Community Colleges          192959  109000  22626        31531    994   255   5243   8386   2607  12317          Fall  2019\n",
      "1   Fall 2019                 Comprehensive Colleges           83674   51819  10215        11663    306    88   2293   2893   1635   2762          Fall  2019\n",
      "2   Fall 2019  Doctoral Degree Granting Institutions          112265   51837   9048        11151    220    59   2913  15890  16138   5009          Fall  2019\n",
      "3   Fall 2019                    Technology Colleges           26674   16050   3336         4241    121    24    726   1234    351    591          Fall  2019\n",
      "4   Fall 2018                     Community Colleges          199873  115352  24025        31057   1106   274   5393   8393   2670  11603          Fall  2018\n",
      "..        ...                                    ...             ...     ...    ...          ...    ...   ...    ...    ...    ...    ...           ...   ...\n",
      "67  Fall 2003                    Technology Colleges           23809   17841   2122         1239    117     0      0    606    550   1334          Fall  2003\n",
      "68  Fall 2002                     Community Colleges          198522  145595  18700        12099   1104     0      0   6003   4119  10902          Fall  2002\n",
      "69  Fall 2002                 Comprehensive Colleges           88899   68727   5414         3699    388     0      0   1817   1867   6987          Fall  2002\n",
      "70  Fall 2002  Doctoral Degree Granting Institutions           92295   51827   6129         4320    285     0      0   9554   8464  11716          Fall  2002\n",
      "71  Fall 2002                    Technology Colleges           23223   17517   2108         1215    137     0      0    551    513   1182          Fall  2002\n",
      "\n",
      "[72 rows x 14 columns]\n"
     ]
    }
   ],
   "source": [
    "#Splitting the Year and Semester\n",
    "dataframe[['Semester_Term','Year']] = dataframe.Semester.str.split(expand=True) \n",
    "   \n",
    "print(\"\\n After adding two new columns : \\n\", dataframe) "
   ]
  },
  {
   "cell_type": "code",
   "execution_count": 24,
   "metadata": {},
   "outputs": [
    {
     "data": {
      "text/plain": [
       "Index(['Semester', 'Institution', 'Total_Enrolled', 'White', 'Black', 'Hisp_Latino', 'AI_AN', 'NHPI', 'Mixed', 'Asian', 'NRA', 'Unk', 'Semester_Term', 'Year'], dtype='object')"
      ]
     },
     "execution_count": 24,
     "metadata": {},
     "output_type": "execute_result"
    }
   ],
   "source": [
    "#Looking at columns\n",
    "dataframe.columns"
   ]
  },
  {
   "cell_type": "code",
   "execution_count": 25,
   "metadata": {},
   "outputs": [
    {
     "data": {
      "text/html": [
       "<div>\n",
       "<style scoped>\n",
       "    .dataframe tbody tr th:only-of-type {\n",
       "        vertical-align: middle;\n",
       "    }\n",
       "\n",
       "    .dataframe tbody tr th {\n",
       "        vertical-align: top;\n",
       "    }\n",
       "\n",
       "    .dataframe thead th {\n",
       "        text-align: right;\n",
       "    }\n",
       "</style>\n",
       "<table border=\"1\" class=\"dataframe\">\n",
       "  <thead>\n",
       "    <tr style=\"text-align: right;\">\n",
       "      <th></th>\n",
       "      <th>Institution</th>\n",
       "      <th>Total_Enrolled</th>\n",
       "      <th>White</th>\n",
       "      <th>Black</th>\n",
       "      <th>Hisp_Latino</th>\n",
       "      <th>AI_AN</th>\n",
       "      <th>NHPI</th>\n",
       "      <th>Mixed</th>\n",
       "      <th>Asian</th>\n",
       "      <th>NRA</th>\n",
       "      <th>Unk</th>\n",
       "      <th>Semester_Term</th>\n",
       "      <th>Year</th>\n",
       "    </tr>\n",
       "  </thead>\n",
       "  <tbody>\n",
       "    <tr>\n",
       "      <th>0</th>\n",
       "      <td>Community Colleges</td>\n",
       "      <td>192959</td>\n",
       "      <td>109000</td>\n",
       "      <td>22626</td>\n",
       "      <td>31531</td>\n",
       "      <td>994</td>\n",
       "      <td>255</td>\n",
       "      <td>5243</td>\n",
       "      <td>8386</td>\n",
       "      <td>2607</td>\n",
       "      <td>12317</td>\n",
       "      <td>Fall</td>\n",
       "      <td>2019</td>\n",
       "    </tr>\n",
       "    <tr>\n",
       "      <th>1</th>\n",
       "      <td>Comprehensive Colleges</td>\n",
       "      <td>83674</td>\n",
       "      <td>51819</td>\n",
       "      <td>10215</td>\n",
       "      <td>11663</td>\n",
       "      <td>306</td>\n",
       "      <td>88</td>\n",
       "      <td>2293</td>\n",
       "      <td>2893</td>\n",
       "      <td>1635</td>\n",
       "      <td>2762</td>\n",
       "      <td>Fall</td>\n",
       "      <td>2019</td>\n",
       "    </tr>\n",
       "    <tr>\n",
       "      <th>2</th>\n",
       "      <td>Doctoral Degree Granting Institutions</td>\n",
       "      <td>112265</td>\n",
       "      <td>51837</td>\n",
       "      <td>9048</td>\n",
       "      <td>11151</td>\n",
       "      <td>220</td>\n",
       "      <td>59</td>\n",
       "      <td>2913</td>\n",
       "      <td>15890</td>\n",
       "      <td>16138</td>\n",
       "      <td>5009</td>\n",
       "      <td>Fall</td>\n",
       "      <td>2019</td>\n",
       "    </tr>\n",
       "    <tr>\n",
       "      <th>3</th>\n",
       "      <td>Technology Colleges</td>\n",
       "      <td>26674</td>\n",
       "      <td>16050</td>\n",
       "      <td>3336</td>\n",
       "      <td>4241</td>\n",
       "      <td>121</td>\n",
       "      <td>24</td>\n",
       "      <td>726</td>\n",
       "      <td>1234</td>\n",
       "      <td>351</td>\n",
       "      <td>591</td>\n",
       "      <td>Fall</td>\n",
       "      <td>2019</td>\n",
       "    </tr>\n",
       "    <tr>\n",
       "      <th>4</th>\n",
       "      <td>Community Colleges</td>\n",
       "      <td>199873</td>\n",
       "      <td>115352</td>\n",
       "      <td>24025</td>\n",
       "      <td>31057</td>\n",
       "      <td>1106</td>\n",
       "      <td>274</td>\n",
       "      <td>5393</td>\n",
       "      <td>8393</td>\n",
       "      <td>2670</td>\n",
       "      <td>11603</td>\n",
       "      <td>Fall</td>\n",
       "      <td>2018</td>\n",
       "    </tr>\n",
       "    <tr>\n",
       "      <th>...</th>\n",
       "      <td>...</td>\n",
       "      <td>...</td>\n",
       "      <td>...</td>\n",
       "      <td>...</td>\n",
       "      <td>...</td>\n",
       "      <td>...</td>\n",
       "      <td>...</td>\n",
       "      <td>...</td>\n",
       "      <td>...</td>\n",
       "      <td>...</td>\n",
       "      <td>...</td>\n",
       "      <td>...</td>\n",
       "      <td>...</td>\n",
       "    </tr>\n",
       "    <tr>\n",
       "      <th>67</th>\n",
       "      <td>Technology Colleges</td>\n",
       "      <td>23809</td>\n",
       "      <td>17841</td>\n",
       "      <td>2122</td>\n",
       "      <td>1239</td>\n",
       "      <td>117</td>\n",
       "      <td>0</td>\n",
       "      <td>0</td>\n",
       "      <td>606</td>\n",
       "      <td>550</td>\n",
       "      <td>1334</td>\n",
       "      <td>Fall</td>\n",
       "      <td>2003</td>\n",
       "    </tr>\n",
       "    <tr>\n",
       "      <th>68</th>\n",
       "      <td>Community Colleges</td>\n",
       "      <td>198522</td>\n",
       "      <td>145595</td>\n",
       "      <td>18700</td>\n",
       "      <td>12099</td>\n",
       "      <td>1104</td>\n",
       "      <td>0</td>\n",
       "      <td>0</td>\n",
       "      <td>6003</td>\n",
       "      <td>4119</td>\n",
       "      <td>10902</td>\n",
       "      <td>Fall</td>\n",
       "      <td>2002</td>\n",
       "    </tr>\n",
       "    <tr>\n",
       "      <th>69</th>\n",
       "      <td>Comprehensive Colleges</td>\n",
       "      <td>88899</td>\n",
       "      <td>68727</td>\n",
       "      <td>5414</td>\n",
       "      <td>3699</td>\n",
       "      <td>388</td>\n",
       "      <td>0</td>\n",
       "      <td>0</td>\n",
       "      <td>1817</td>\n",
       "      <td>1867</td>\n",
       "      <td>6987</td>\n",
       "      <td>Fall</td>\n",
       "      <td>2002</td>\n",
       "    </tr>\n",
       "    <tr>\n",
       "      <th>70</th>\n",
       "      <td>Doctoral Degree Granting Institutions</td>\n",
       "      <td>92295</td>\n",
       "      <td>51827</td>\n",
       "      <td>6129</td>\n",
       "      <td>4320</td>\n",
       "      <td>285</td>\n",
       "      <td>0</td>\n",
       "      <td>0</td>\n",
       "      <td>9554</td>\n",
       "      <td>8464</td>\n",
       "      <td>11716</td>\n",
       "      <td>Fall</td>\n",
       "      <td>2002</td>\n",
       "    </tr>\n",
       "    <tr>\n",
       "      <th>71</th>\n",
       "      <td>Technology Colleges</td>\n",
       "      <td>23223</td>\n",
       "      <td>17517</td>\n",
       "      <td>2108</td>\n",
       "      <td>1215</td>\n",
       "      <td>137</td>\n",
       "      <td>0</td>\n",
       "      <td>0</td>\n",
       "      <td>551</td>\n",
       "      <td>513</td>\n",
       "      <td>1182</td>\n",
       "      <td>Fall</td>\n",
       "      <td>2002</td>\n",
       "    </tr>\n",
       "  </tbody>\n",
       "</table>\n",
       "<p>72 rows × 13 columns</p>\n",
       "</div>"
      ],
      "text/plain": [
       "                              Institution  Total_Enrolled   White  Black  Hisp_Latino  AI_AN  NHPI  Mixed  Asian    NRA    Unk Semester_Term  Year\n",
       "0                      Community Colleges          192959  109000  22626        31531    994   255   5243   8386   2607  12317          Fall  2019\n",
       "1                  Comprehensive Colleges           83674   51819  10215        11663    306    88   2293   2893   1635   2762          Fall  2019\n",
       "2   Doctoral Degree Granting Institutions          112265   51837   9048        11151    220    59   2913  15890  16138   5009          Fall  2019\n",
       "3                     Technology Colleges           26674   16050   3336         4241    121    24    726   1234    351    591          Fall  2019\n",
       "4                      Community Colleges          199873  115352  24025        31057   1106   274   5393   8393   2670  11603          Fall  2018\n",
       "..                                    ...             ...     ...    ...          ...    ...   ...    ...    ...    ...    ...           ...   ...\n",
       "67                    Technology Colleges           23809   17841   2122         1239    117     0      0    606    550   1334          Fall  2003\n",
       "68                     Community Colleges          198522  145595  18700        12099   1104     0      0   6003   4119  10902          Fall  2002\n",
       "69                 Comprehensive Colleges           88899   68727   5414         3699    388     0      0   1817   1867   6987          Fall  2002\n",
       "70  Doctoral Degree Granting Institutions           92295   51827   6129         4320    285     0      0   9554   8464  11716          Fall  2002\n",
       "71                    Technology Colleges           23223   17517   2108         1215    137     0      0    551    513   1182          Fall  2002\n",
       "\n",
       "[72 rows x 13 columns]"
      ]
     },
     "execution_count": 25,
     "metadata": {},
     "output_type": "execute_result"
    }
   ],
   "source": [
    "#Dropping Semester after the split\n",
    "dataframe.drop(['Semester'], axis=1)\n"
   ]
  },
  {
   "cell_type": "code",
   "execution_count": 26,
   "metadata": {},
   "outputs": [
    {
     "data": {
      "text/plain": [
       "Index(['Semester', 'Institution', 'Total_Enrolled', 'White', 'Black', 'Hisp_Latino', 'AI_AN', 'NHPI', 'Mixed', 'Asian', 'NRA', 'Unk', 'Semester_Term', 'Year'], dtype='object')"
      ]
     },
     "execution_count": 26,
     "metadata": {},
     "output_type": "execute_result"
    }
   ],
   "source": [
    "dataframe.columns"
   ]
  },
  {
   "cell_type": "code",
   "execution_count": 27,
   "metadata": {},
   "outputs": [
    {
     "data": {
      "text/plain": [
       "72"
      ]
     },
     "execution_count": 27,
     "metadata": {},
     "output_type": "execute_result"
    }
   ],
   "source": [
    "dataframe['Year'].count()"
   ]
  },
  {
   "cell_type": "code",
   "execution_count": 28,
   "metadata": {},
   "outputs": [],
   "source": [
    "#Dropping Semester after the split\n",
    "df2 = dataframe.drop(['Semester'], axis=1)\n"
   ]
  },
  {
   "cell_type": "code",
   "execution_count": 29,
   "metadata": {},
   "outputs": [
    {
     "data": {
      "text/html": [
       "<div>\n",
       "<style scoped>\n",
       "    .dataframe tbody tr th:only-of-type {\n",
       "        vertical-align: middle;\n",
       "    }\n",
       "\n",
       "    .dataframe tbody tr th {\n",
       "        vertical-align: top;\n",
       "    }\n",
       "\n",
       "    .dataframe thead th {\n",
       "        text-align: right;\n",
       "    }\n",
       "</style>\n",
       "<table border=\"1\" class=\"dataframe\">\n",
       "  <thead>\n",
       "    <tr style=\"text-align: right;\">\n",
       "      <th></th>\n",
       "      <th>Institution</th>\n",
       "      <th>Total_Enrolled</th>\n",
       "      <th>White</th>\n",
       "      <th>Black</th>\n",
       "      <th>Hisp_Latino</th>\n",
       "      <th>AI_AN</th>\n",
       "      <th>NHPI</th>\n",
       "      <th>Mixed</th>\n",
       "      <th>Asian</th>\n",
       "      <th>NRA</th>\n",
       "      <th>Unk</th>\n",
       "      <th>Semester_Term</th>\n",
       "      <th>Year</th>\n",
       "    </tr>\n",
       "  </thead>\n",
       "  <tbody>\n",
       "    <tr>\n",
       "      <th>0</th>\n",
       "      <td>Community Colleges</td>\n",
       "      <td>192959</td>\n",
       "      <td>109000</td>\n",
       "      <td>22626</td>\n",
       "      <td>31531</td>\n",
       "      <td>994</td>\n",
       "      <td>255</td>\n",
       "      <td>5243</td>\n",
       "      <td>8386</td>\n",
       "      <td>2607</td>\n",
       "      <td>12317</td>\n",
       "      <td>Fall</td>\n",
       "      <td>2019</td>\n",
       "    </tr>\n",
       "    <tr>\n",
       "      <th>1</th>\n",
       "      <td>Comprehensive Colleges</td>\n",
       "      <td>83674</td>\n",
       "      <td>51819</td>\n",
       "      <td>10215</td>\n",
       "      <td>11663</td>\n",
       "      <td>306</td>\n",
       "      <td>88</td>\n",
       "      <td>2293</td>\n",
       "      <td>2893</td>\n",
       "      <td>1635</td>\n",
       "      <td>2762</td>\n",
       "      <td>Fall</td>\n",
       "      <td>2019</td>\n",
       "    </tr>\n",
       "    <tr>\n",
       "      <th>2</th>\n",
       "      <td>Doctoral Degree Granting Institutions</td>\n",
       "      <td>112265</td>\n",
       "      <td>51837</td>\n",
       "      <td>9048</td>\n",
       "      <td>11151</td>\n",
       "      <td>220</td>\n",
       "      <td>59</td>\n",
       "      <td>2913</td>\n",
       "      <td>15890</td>\n",
       "      <td>16138</td>\n",
       "      <td>5009</td>\n",
       "      <td>Fall</td>\n",
       "      <td>2019</td>\n",
       "    </tr>\n",
       "    <tr>\n",
       "      <th>3</th>\n",
       "      <td>Technology Colleges</td>\n",
       "      <td>26674</td>\n",
       "      <td>16050</td>\n",
       "      <td>3336</td>\n",
       "      <td>4241</td>\n",
       "      <td>121</td>\n",
       "      <td>24</td>\n",
       "      <td>726</td>\n",
       "      <td>1234</td>\n",
       "      <td>351</td>\n",
       "      <td>591</td>\n",
       "      <td>Fall</td>\n",
       "      <td>2019</td>\n",
       "    </tr>\n",
       "    <tr>\n",
       "      <th>4</th>\n",
       "      <td>Community Colleges</td>\n",
       "      <td>199873</td>\n",
       "      <td>115352</td>\n",
       "      <td>24025</td>\n",
       "      <td>31057</td>\n",
       "      <td>1106</td>\n",
       "      <td>274</td>\n",
       "      <td>5393</td>\n",
       "      <td>8393</td>\n",
       "      <td>2670</td>\n",
       "      <td>11603</td>\n",
       "      <td>Fall</td>\n",
       "      <td>2018</td>\n",
       "    </tr>\n",
       "    <tr>\n",
       "      <th>...</th>\n",
       "      <td>...</td>\n",
       "      <td>...</td>\n",
       "      <td>...</td>\n",
       "      <td>...</td>\n",
       "      <td>...</td>\n",
       "      <td>...</td>\n",
       "      <td>...</td>\n",
       "      <td>...</td>\n",
       "      <td>...</td>\n",
       "      <td>...</td>\n",
       "      <td>...</td>\n",
       "      <td>...</td>\n",
       "      <td>...</td>\n",
       "    </tr>\n",
       "    <tr>\n",
       "      <th>67</th>\n",
       "      <td>Technology Colleges</td>\n",
       "      <td>23809</td>\n",
       "      <td>17841</td>\n",
       "      <td>2122</td>\n",
       "      <td>1239</td>\n",
       "      <td>117</td>\n",
       "      <td>0</td>\n",
       "      <td>0</td>\n",
       "      <td>606</td>\n",
       "      <td>550</td>\n",
       "      <td>1334</td>\n",
       "      <td>Fall</td>\n",
       "      <td>2003</td>\n",
       "    </tr>\n",
       "    <tr>\n",
       "      <th>68</th>\n",
       "      <td>Community Colleges</td>\n",
       "      <td>198522</td>\n",
       "      <td>145595</td>\n",
       "      <td>18700</td>\n",
       "      <td>12099</td>\n",
       "      <td>1104</td>\n",
       "      <td>0</td>\n",
       "      <td>0</td>\n",
       "      <td>6003</td>\n",
       "      <td>4119</td>\n",
       "      <td>10902</td>\n",
       "      <td>Fall</td>\n",
       "      <td>2002</td>\n",
       "    </tr>\n",
       "    <tr>\n",
       "      <th>69</th>\n",
       "      <td>Comprehensive Colleges</td>\n",
       "      <td>88899</td>\n",
       "      <td>68727</td>\n",
       "      <td>5414</td>\n",
       "      <td>3699</td>\n",
       "      <td>388</td>\n",
       "      <td>0</td>\n",
       "      <td>0</td>\n",
       "      <td>1817</td>\n",
       "      <td>1867</td>\n",
       "      <td>6987</td>\n",
       "      <td>Fall</td>\n",
       "      <td>2002</td>\n",
       "    </tr>\n",
       "    <tr>\n",
       "      <th>70</th>\n",
       "      <td>Doctoral Degree Granting Institutions</td>\n",
       "      <td>92295</td>\n",
       "      <td>51827</td>\n",
       "      <td>6129</td>\n",
       "      <td>4320</td>\n",
       "      <td>285</td>\n",
       "      <td>0</td>\n",
       "      <td>0</td>\n",
       "      <td>9554</td>\n",
       "      <td>8464</td>\n",
       "      <td>11716</td>\n",
       "      <td>Fall</td>\n",
       "      <td>2002</td>\n",
       "    </tr>\n",
       "    <tr>\n",
       "      <th>71</th>\n",
       "      <td>Technology Colleges</td>\n",
       "      <td>23223</td>\n",
       "      <td>17517</td>\n",
       "      <td>2108</td>\n",
       "      <td>1215</td>\n",
       "      <td>137</td>\n",
       "      <td>0</td>\n",
       "      <td>0</td>\n",
       "      <td>551</td>\n",
       "      <td>513</td>\n",
       "      <td>1182</td>\n",
       "      <td>Fall</td>\n",
       "      <td>2002</td>\n",
       "    </tr>\n",
       "  </tbody>\n",
       "</table>\n",
       "<p>72 rows × 13 columns</p>\n",
       "</div>"
      ],
      "text/plain": [
       "                              Institution  Total_Enrolled   White  Black  Hisp_Latino  AI_AN  NHPI  Mixed  Asian    NRA    Unk Semester_Term  Year\n",
       "0                      Community Colleges          192959  109000  22626        31531    994   255   5243   8386   2607  12317          Fall  2019\n",
       "1                  Comprehensive Colleges           83674   51819  10215        11663    306    88   2293   2893   1635   2762          Fall  2019\n",
       "2   Doctoral Degree Granting Institutions          112265   51837   9048        11151    220    59   2913  15890  16138   5009          Fall  2019\n",
       "3                     Technology Colleges           26674   16050   3336         4241    121    24    726   1234    351    591          Fall  2019\n",
       "4                      Community Colleges          199873  115352  24025        31057   1106   274   5393   8393   2670  11603          Fall  2018\n",
       "..                                    ...             ...     ...    ...          ...    ...   ...    ...    ...    ...    ...           ...   ...\n",
       "67                    Technology Colleges           23809   17841   2122         1239    117     0      0    606    550   1334          Fall  2003\n",
       "68                     Community Colleges          198522  145595  18700        12099   1104     0      0   6003   4119  10902          Fall  2002\n",
       "69                 Comprehensive Colleges           88899   68727   5414         3699    388     0      0   1817   1867   6987          Fall  2002\n",
       "70  Doctoral Degree Granting Institutions           92295   51827   6129         4320    285     0      0   9554   8464  11716          Fall  2002\n",
       "71                    Technology Colleges           23223   17517   2108         1215    137     0      0    551    513   1182          Fall  2002\n",
       "\n",
       "[72 rows x 13 columns]"
      ]
     },
     "execution_count": 29,
     "metadata": {},
     "output_type": "execute_result"
    }
   ],
   "source": [
    "df2.sort_index()"
   ]
  },
  {
   "cell_type": "code",
   "execution_count": 30,
   "metadata": {},
   "outputs": [
    {
     "name": "stdout",
     "output_type": "stream",
     "text": [
      "<class 'pandas.core.frame.DataFrame'>\n",
      "RangeIndex: 72 entries, 0 to 71\n",
      "Data columns (total 13 columns):\n",
      " #   Column          Non-Null Count  Dtype \n",
      "---  ------          --------------  ----- \n",
      " 0   Institution     72 non-null     object\n",
      " 1   Total_Enrolled  72 non-null     int64 \n",
      " 2   White           72 non-null     int64 \n",
      " 3   Black           72 non-null     int64 \n",
      " 4   Hisp_Latino     72 non-null     int64 \n",
      " 5   AI_AN           72 non-null     int64 \n",
      " 6   NHPI            72 non-null     int64 \n",
      " 7   Mixed           72 non-null     int64 \n",
      " 8   Asian           72 non-null     int64 \n",
      " 9   NRA             72 non-null     int64 \n",
      " 10  Unk             72 non-null     int64 \n",
      " 11  Semester_Term   72 non-null     object\n",
      " 12  Year            72 non-null     object\n",
      "dtypes: int64(10), object(3)\n",
      "memory usage: 7.4+ KB\n"
     ]
    }
   ],
   "source": [
    "df2.info()"
   ]
  },
  {
   "cell_type": "code",
   "execution_count": 31,
   "metadata": {},
   "outputs": [
    {
     "name": "stdout",
     "output_type": "stream",
     "text": [
      "                Total_Enrolled  White  Black  Hisp_Latino  AI_AN  NHPI  Mixed  Asian   NRA  Unk\n",
      "Total_Enrolled            1.00   0.98   0.97         0.87   0.96  0.61   0.53   0.49  0.13 0.86\n",
      "White                     0.98   1.00   0.95         0.81   0.98  0.54   0.41   0.34 -0.01 0.84\n",
      "Black                     0.97   0.95   1.00         0.94   0.96  0.72   0.63   0.35 -0.04 0.77\n",
      "Hisp_Latino               0.87   0.81   0.94         1.00   0.84  0.84   0.84   0.40  0.01 0.64\n",
      "AI_AN                     0.96   0.98   0.96         0.84   1.00  0.57   0.43   0.25 -0.12 0.82\n",
      "NHPI                      0.61   0.54   0.72         0.84   0.57  1.00   0.88   0.24 -0.05 0.41\n",
      "Mixed                     0.53   0.41   0.63         0.84   0.43  0.88   1.00   0.38  0.12 0.24\n",
      "Asian                     0.49   0.34   0.35         0.40   0.25  0.24   0.38   1.00  0.90 0.43\n",
      "NRA                       0.13  -0.01  -0.04         0.01  -0.12 -0.05   0.12   0.90  1.00 0.14\n",
      "Unk                       0.86   0.84   0.77         0.64   0.82  0.41   0.24   0.43  0.14 1.00\n"
     ]
    }
   ],
   "source": [
    "# Correllation\n",
    "corrMatrix = df2.corr()\n",
    "print (corrMatrix)"
   ]
  },
  {
   "cell_type": "code",
   "execution_count": 32,
   "metadata": {},
   "outputs": [
    {
     "data": {
      "image/png": "[encoded data removed]",
      "text/plain": [
       "<Figure size 1800x720 with 2 Axes>"
      ]
     },
     "metadata": {
      "needs_background": "light"
     },
     "output_type": "display_data"
    }
   ],
   "source": [
    "# Correlation Matrix\n",
    "plt.figure(figsize=(25,10))\n",
    "\n",
    "sn.heatmap(corrMatrix, annot=True)\n",
    "\n",
    "plt.show()"
   ]
  },
  {
   "cell_type": "code",
   "execution_count": 33,
   "metadata": {},
   "outputs": [
    {
     "data": {
      "text/html": [
       "<div>\n",
       "<style scoped>\n",
       "    .dataframe tbody tr th:only-of-type {\n",
       "        vertical-align: middle;\n",
       "    }\n",
       "\n",
       "    .dataframe tbody tr th {\n",
       "        vertical-align: top;\n",
       "    }\n",
       "\n",
       "    .dataframe thead th {\n",
       "        text-align: right;\n",
       "    }\n",
       "</style>\n",
       "<table border=\"1\" class=\"dataframe\">\n",
       "  <thead>\n",
       "    <tr style=\"text-align: right;\">\n",
       "      <th></th>\n",
       "      <th>Institution</th>\n",
       "      <th>Total_Enrolled</th>\n",
       "      <th>White</th>\n",
       "      <th>Black</th>\n",
       "      <th>Hisp_Latino</th>\n",
       "      <th>AI_AN</th>\n",
       "      <th>NHPI</th>\n",
       "      <th>Mixed</th>\n",
       "      <th>Asian</th>\n",
       "      <th>NRA</th>\n",
       "      <th>Unk</th>\n",
       "      <th>Semester_Term</th>\n",
       "      <th>Year</th>\n",
       "    </tr>\n",
       "  </thead>\n",
       "  <tbody>\n",
       "    <tr>\n",
       "      <th>0</th>\n",
       "      <td>Community Colleges</td>\n",
       "      <td>192959</td>\n",
       "      <td>109000</td>\n",
       "      <td>22626</td>\n",
       "      <td>31531</td>\n",
       "      <td>994</td>\n",
       "      <td>255</td>\n",
       "      <td>5243</td>\n",
       "      <td>8386</td>\n",
       "      <td>2607</td>\n",
       "      <td>12317</td>\n",
       "      <td>Fall</td>\n",
       "      <td>2019</td>\n",
       "    </tr>\n",
       "    <tr>\n",
       "      <th>4</th>\n",
       "      <td>Community Colleges</td>\n",
       "      <td>199873</td>\n",
       "      <td>115352</td>\n",
       "      <td>24025</td>\n",
       "      <td>31057</td>\n",
       "      <td>1106</td>\n",
       "      <td>274</td>\n",
       "      <td>5393</td>\n",
       "      <td>8393</td>\n",
       "      <td>2670</td>\n",
       "      <td>11603</td>\n",
       "      <td>Fall</td>\n",
       "      <td>2018</td>\n",
       "    </tr>\n",
       "    <tr>\n",
       "      <th>8</th>\n",
       "      <td>Community Colleges</td>\n",
       "      <td>209418</td>\n",
       "      <td>120742</td>\n",
       "      <td>25454</td>\n",
       "      <td>30861</td>\n",
       "      <td>1071</td>\n",
       "      <td>305</td>\n",
       "      <td>5227</td>\n",
       "      <td>8359</td>\n",
       "      <td>2846</td>\n",
       "      <td>14553</td>\n",
       "      <td>Fall</td>\n",
       "      <td>2017</td>\n",
       "    </tr>\n",
       "    <tr>\n",
       "      <th>12</th>\n",
       "      <td>Community Colleges</td>\n",
       "      <td>216277</td>\n",
       "      <td>126024</td>\n",
       "      <td>26125</td>\n",
       "      <td>30097</td>\n",
       "      <td>1143</td>\n",
       "      <td>346</td>\n",
       "      <td>4922</td>\n",
       "      <td>8134</td>\n",
       "      <td>3099</td>\n",
       "      <td>16387</td>\n",
       "      <td>Fall</td>\n",
       "      <td>2016</td>\n",
       "    </tr>\n",
       "    <tr>\n",
       "      <th>16</th>\n",
       "      <td>Community Colleges</td>\n",
       "      <td>222998</td>\n",
       "      <td>130503</td>\n",
       "      <td>26466</td>\n",
       "      <td>29222</td>\n",
       "      <td>1108</td>\n",
       "      <td>389</td>\n",
       "      <td>4621</td>\n",
       "      <td>8054</td>\n",
       "      <td>3284</td>\n",
       "      <td>19351</td>\n",
       "      <td>Fall</td>\n",
       "      <td>2015</td>\n",
       "    </tr>\n",
       "    <tr>\n",
       "      <th>...</th>\n",
       "      <td>...</td>\n",
       "      <td>...</td>\n",
       "      <td>...</td>\n",
       "      <td>...</td>\n",
       "      <td>...</td>\n",
       "      <td>...</td>\n",
       "      <td>...</td>\n",
       "      <td>...</td>\n",
       "      <td>...</td>\n",
       "      <td>...</td>\n",
       "      <td>...</td>\n",
       "      <td>...</td>\n",
       "      <td>...</td>\n",
       "    </tr>\n",
       "    <tr>\n",
       "      <th>55</th>\n",
       "      <td>Technology Colleges</td>\n",
       "      <td>24321</td>\n",
       "      <td>17808</td>\n",
       "      <td>2159</td>\n",
       "      <td>1308</td>\n",
       "      <td>116</td>\n",
       "      <td>0</td>\n",
       "      <td>0</td>\n",
       "      <td>590</td>\n",
       "      <td>514</td>\n",
       "      <td>1826</td>\n",
       "      <td>Fall</td>\n",
       "      <td>2006</td>\n",
       "    </tr>\n",
       "    <tr>\n",
       "      <th>59</th>\n",
       "      <td>Technology Colleges</td>\n",
       "      <td>24426</td>\n",
       "      <td>18144</td>\n",
       "      <td>2182</td>\n",
       "      <td>1243</td>\n",
       "      <td>125</td>\n",
       "      <td>0</td>\n",
       "      <td>0</td>\n",
       "      <td>650</td>\n",
       "      <td>493</td>\n",
       "      <td>1589</td>\n",
       "      <td>Fall</td>\n",
       "      <td>2005</td>\n",
       "    </tr>\n",
       "    <tr>\n",
       "      <th>63</th>\n",
       "      <td>Technology Colleges</td>\n",
       "      <td>24381</td>\n",
       "      <td>18198</td>\n",
       "      <td>2151</td>\n",
       "      <td>1216</td>\n",
       "      <td>140</td>\n",
       "      <td>0</td>\n",
       "      <td>0</td>\n",
       "      <td>630</td>\n",
       "      <td>533</td>\n",
       "      <td>1513</td>\n",
       "      <td>Fall</td>\n",
       "      <td>2004</td>\n",
       "    </tr>\n",
       "    <tr>\n",
       "      <th>67</th>\n",
       "      <td>Technology Colleges</td>\n",
       "      <td>23809</td>\n",
       "      <td>17841</td>\n",
       "      <td>2122</td>\n",
       "      <td>1239</td>\n",
       "      <td>117</td>\n",
       "      <td>0</td>\n",
       "      <td>0</td>\n",
       "      <td>606</td>\n",
       "      <td>550</td>\n",
       "      <td>1334</td>\n",
       "      <td>Fall</td>\n",
       "      <td>2003</td>\n",
       "    </tr>\n",
       "    <tr>\n",
       "      <th>71</th>\n",
       "      <td>Technology Colleges</td>\n",
       "      <td>23223</td>\n",
       "      <td>17517</td>\n",
       "      <td>2108</td>\n",
       "      <td>1215</td>\n",
       "      <td>137</td>\n",
       "      <td>0</td>\n",
       "      <td>0</td>\n",
       "      <td>551</td>\n",
       "      <td>513</td>\n",
       "      <td>1182</td>\n",
       "      <td>Fall</td>\n",
       "      <td>2002</td>\n",
       "    </tr>\n",
       "  </tbody>\n",
       "</table>\n",
       "<p>72 rows × 13 columns</p>\n",
       "</div>"
      ],
      "text/plain": [
       "            Institution  Total_Enrolled   White  Black  Hisp_Latino  AI_AN  NHPI  Mixed  Asian   NRA    Unk Semester_Term  Year\n",
       "0    Community Colleges          192959  109000  22626        31531    994   255   5243   8386  2607  12317          Fall  2019\n",
       "4    Community Colleges          199873  115352  24025        31057   1106   274   5393   8393  2670  11603          Fall  2018\n",
       "8    Community Colleges          209418  120742  25454        30861   1071   305   5227   8359  2846  14553          Fall  2017\n",
       "12   Community Colleges          216277  126024  26125        30097   1143   346   4922   8134  3099  16387          Fall  2016\n",
       "16   Community Colleges          222998  130503  26466        29222   1108   389   4621   8054  3284  19351          Fall  2015\n",
       "..                  ...             ...     ...    ...          ...    ...   ...    ...    ...   ...    ...           ...   ...\n",
       "55  Technology Colleges           24321   17808   2159         1308    116     0      0    590   514   1826          Fall  2006\n",
       "59  Technology Colleges           24426   18144   2182         1243    125     0      0    650   493   1589          Fall  2005\n",
       "63  Technology Colleges           24381   18198   2151         1216    140     0      0    630   533   1513          Fall  2004\n",
       "67  Technology Colleges           23809   17841   2122         1239    117     0      0    606   550   1334          Fall  2003\n",
       "71  Technology Colleges           23223   17517   2108         1215    137     0      0    551   513   1182          Fall  2002\n",
       "\n",
       "[72 rows x 13 columns]"
      ]
     },
     "execution_count": 33,
     "metadata": {},
     "output_type": "execute_result"
    }
   ],
   "source": [
    "df2.sort_values(by=['Institution', 'Year'],ascending=[True,False])"
   ]
  },
  {
   "cell_type": "code",
   "execution_count": 34,
   "metadata": {},
   "outputs": [],
   "source": [
    "# convert year to time\n",
    "df2.Year = pd.to_datetime(df2.Year, format='%Y')"
   ]
  },
  {
   "cell_type": "code",
   "execution_count": 35,
   "metadata": {},
   "outputs": [
    {
     "name": "stdout",
     "output_type": "stream",
     "text": [
      "<class 'pandas.core.frame.DataFrame'>\n",
      "RangeIndex: 72 entries, 0 to 71\n",
      "Data columns (total 13 columns):\n",
      " #   Column          Non-Null Count  Dtype         \n",
      "---  ------          --------------  -----         \n",
      " 0   Institution     72 non-null     object        \n",
      " 1   Total_Enrolled  72 non-null     int64         \n",
      " 2   White           72 non-null     int64         \n",
      " 3   Black           72 non-null     int64         \n",
      " 4   Hisp_Latino     72 non-null     int64         \n",
      " 5   AI_AN           72 non-null     int64         \n",
      " 6   NHPI            72 non-null     int64         \n",
      " 7   Mixed           72 non-null     int64         \n",
      " 8   Asian           72 non-null     int64         \n",
      " 9   NRA             72 non-null     int64         \n",
      " 10  Unk             72 non-null     int64         \n",
      " 11  Semester_Term   72 non-null     object        \n",
      " 12  Year            72 non-null     datetime64[ns]\n",
      "dtypes: datetime64[ns](1), int64(10), object(2)\n",
      "memory usage: 7.4+ KB\n"
     ]
    }
   ],
   "source": [
    "df2.info()"
   ]
  },
  {
   "cell_type": "code",
   "execution_count": 37,
   "metadata": {},
   "outputs": [
    {
     "data": {
      "text/plain": [
       "Text(0.5, 1.0, 'Ennrollment By Institution')"
      ]
     },
     "execution_count": 37,
     "metadata": {},
     "output_type": "execute_result"
    },
    {
     "data": {
      "text/plain": [
       "<Figure size 5040x1440 with 0 Axes>"
      ]
     },
     "metadata": {},
     "output_type": "display_data"
    },
    {
     "data": {
      "image/png": "[encoded data removed]",
      "text/plain": [
       "<Figure size 432x288 with 1 Axes>"
      ]
     },
     "metadata": {
      "needs_background": "light"
     },
     "output_type": "display_data"
    }
   ],
   "source": [
    "Total_By_Institution = df2.groupby([\"Institution\"])[[\"White\", \"Black\", \"Hisp_Latino\",\"AI_AN\", \"NHPI\", \"Mixed\", \"Asian\", \"NRA\", \"Unk\"]].sum().sort_values(by='Institution',ascending=False)\n",
    "plt.figure(figsize=(70,20))\n",
    "#Total_By_Institution\n",
    "\n",
    "Total_By_Institution.plot(kind=\"line\", fontsize=8)\n",
    "plt.xticks(rotation=90)\n",
    "\n",
    "plt.title('Ennrollment By Institution')\n",
    "\n"
   ]
  },
  {
   "cell_type": "markdown",
   "metadata": {},
   "source": [
    "Whites more colleges than other races but have a higher enrollment in Community College."
   ]
  },
  {
   "cell_type": "code",
   "execution_count": 38,
   "metadata": {},
   "outputs": [
    {
     "data": {
      "text/plain": [
       "Text(0.5, 1.0, 'Ennrollment By Year')"
      ]
     },
     "execution_count": 38,
     "metadata": {},
     "output_type": "execute_result"
    },
    {
     "data": {
      "text/plain": [
       "<Figure size 1080x648 with 0 Axes>"
      ]
     },
     "metadata": {},
     "output_type": "display_data"
    },
    {
     "data": {
      "image/png": "[encoded data removed]",
      "text/plain": [
       "<Figure size 432x288 with 1 Axes>"
      ]
     },
     "metadata": {
      "needs_background": "light"
     },
     "output_type": "display_data"
    }
   ],
   "source": [
    "Total_By_Institution = df2.groupby([\"Year\"])[[\"White\", \"Black\", \"Hisp_Latino\",\"AI_AN\", \"NHPI\", \"Mixed\", \"Asian\", \"NRA\", \"Unk\"]].sum().sort_values(by='Year',ascending=False)\n",
    "\n",
    "Total_By_Institution\n",
    "plt.figure(figsize=(15,9))\n",
    "Total_By_Institution.plot(kind=\"line\", fontsize=16)\n",
    "plt.xticks(rotation=90)\n",
    "plt.legend(bbox_to_anchor=(1, 1), loc = \"best\")\n",
    "\n",
    "plt.title('Ennrollment By Year')"
   ]
  },
  {
   "cell_type": "markdown",
   "metadata": {},
   "source": [
    "More whites are enrolled in colleges but seems to be going on a downward trend."
   ]
  },
  {
   "cell_type": "code",
   "execution_count": 39,
   "metadata": {},
   "outputs": [
    {
     "data": {
      "text/html": [
       "<div>\n",
       "<style scoped>\n",
       "    .dataframe tbody tr th:only-of-type {\n",
       "        vertical-align: middle;\n",
       "    }\n",
       "\n",
       "    .dataframe tbody tr th {\n",
       "        vertical-align: top;\n",
       "    }\n",
       "\n",
       "    .dataframe thead th {\n",
       "        text-align: right;\n",
       "    }\n",
       "</style>\n",
       "<table border=\"1\" class=\"dataframe\">\n",
       "  <thead>\n",
       "    <tr style=\"text-align: right;\">\n",
       "      <th></th>\n",
       "      <th>Institution</th>\n",
       "      <th>Total_Enrolled</th>\n",
       "      <th>White</th>\n",
       "      <th>Black</th>\n",
       "      <th>Hisp_Latino</th>\n",
       "      <th>AI_AN</th>\n",
       "      <th>NHPI</th>\n",
       "      <th>Mixed</th>\n",
       "      <th>Asian</th>\n",
       "      <th>NRA</th>\n",
       "      <th>Unk</th>\n",
       "      <th>Semester_Term</th>\n",
       "      <th>Year</th>\n",
       "    </tr>\n",
       "  </thead>\n",
       "  <tbody>\n",
       "    <tr>\n",
       "      <th>0</th>\n",
       "      <td>Community Colleges</td>\n",
       "      <td>192959</td>\n",
       "      <td>109000</td>\n",
       "      <td>22626</td>\n",
       "      <td>31531</td>\n",
       "      <td>994</td>\n",
       "      <td>255</td>\n",
       "      <td>5243</td>\n",
       "      <td>8386</td>\n",
       "      <td>2607</td>\n",
       "      <td>12317</td>\n",
       "      <td>Fall</td>\n",
       "      <td>2019-01-01</td>\n",
       "    </tr>\n",
       "    <tr>\n",
       "      <th>1</th>\n",
       "      <td>Comprehensive Colleges</td>\n",
       "      <td>83674</td>\n",
       "      <td>51819</td>\n",
       "      <td>10215</td>\n",
       "      <td>11663</td>\n",
       "      <td>306</td>\n",
       "      <td>88</td>\n",
       "      <td>2293</td>\n",
       "      <td>2893</td>\n",
       "      <td>1635</td>\n",
       "      <td>2762</td>\n",
       "      <td>Fall</td>\n",
       "      <td>2019-01-01</td>\n",
       "    </tr>\n",
       "    <tr>\n",
       "      <th>2</th>\n",
       "      <td>Doctoral Degree Granting Institutions</td>\n",
       "      <td>112265</td>\n",
       "      <td>51837</td>\n",
       "      <td>9048</td>\n",
       "      <td>11151</td>\n",
       "      <td>220</td>\n",
       "      <td>59</td>\n",
       "      <td>2913</td>\n",
       "      <td>15890</td>\n",
       "      <td>16138</td>\n",
       "      <td>5009</td>\n",
       "      <td>Fall</td>\n",
       "      <td>2019-01-01</td>\n",
       "    </tr>\n",
       "    <tr>\n",
       "      <th>3</th>\n",
       "      <td>Technology Colleges</td>\n",
       "      <td>26674</td>\n",
       "      <td>16050</td>\n",
       "      <td>3336</td>\n",
       "      <td>4241</td>\n",
       "      <td>121</td>\n",
       "      <td>24</td>\n",
       "      <td>726</td>\n",
       "      <td>1234</td>\n",
       "      <td>351</td>\n",
       "      <td>591</td>\n",
       "      <td>Fall</td>\n",
       "      <td>2019-01-01</td>\n",
       "    </tr>\n",
       "    <tr>\n",
       "      <th>4</th>\n",
       "      <td>Community Colleges</td>\n",
       "      <td>199873</td>\n",
       "      <td>115352</td>\n",
       "      <td>24025</td>\n",
       "      <td>31057</td>\n",
       "      <td>1106</td>\n",
       "      <td>274</td>\n",
       "      <td>5393</td>\n",
       "      <td>8393</td>\n",
       "      <td>2670</td>\n",
       "      <td>11603</td>\n",
       "      <td>Fall</td>\n",
       "      <td>2018-01-01</td>\n",
       "    </tr>\n",
       "  </tbody>\n",
       "</table>\n",
       "</div>"
      ],
      "text/plain": [
       "                             Institution  Total_Enrolled   White  Black  Hisp_Latino  AI_AN  NHPI  Mixed  Asian    NRA    Unk Semester_Term       Year\n",
       "0                     Community Colleges          192959  109000  22626        31531    994   255   5243   8386   2607  12317          Fall 2019-01-01\n",
       "1                 Comprehensive Colleges           83674   51819  10215        11663    306    88   2293   2893   1635   2762          Fall 2019-01-01\n",
       "2  Doctoral Degree Granting Institutions          112265   51837   9048        11151    220    59   2913  15890  16138   5009          Fall 2019-01-01\n",
       "3                    Technology Colleges           26674   16050   3336         4241    121    24    726   1234    351    591          Fall 2019-01-01\n",
       "4                     Community Colleges          199873  115352  24025        31057   1106   274   5393   8393   2670  11603          Fall 2018-01-01"
      ]
     },
     "execution_count": 39,
     "metadata": {},
     "output_type": "execute_result"
    }
   ],
   "source": [
    "df2.head()"
   ]
  },
  {
   "cell_type": "markdown",
   "metadata": {},
   "source": [
    "# Percentage of Enrollments By Race"
   ]
  },
  {
   "cell_type": "code",
   "execution_count": 53,
   "metadata": {},
   "outputs": [
    {
     "data": {
      "image/png": "[encoded data removed]",
      "text/plain": [
       "<Figure size 1440x720 with 1 Axes>"
      ]
     },
     "metadata": {
      "needs_background": "light"
     },
     "output_type": "display_data"
    }
   ],
   "source": [
    "df4 = pd.DataFrame([np.sum(df2['White'])/np.sum(df2['Total_Enrolled'])*100,\n",
    "                    np.sum(df2['Black'])/np.sum(df2['Total_Enrolled'])*100,                  \n",
    "                    np.sum(df2['Hisp_Latino'])/np.sum(df2['Total_Enrolled'])*100,\n",
    "                    np.sum(df2['AI_AN'])/np.sum(df2['Total_Enrolled'])*100,\n",
    "                    np.sum(df2['NHPI'])/np.sum(df2['Total_Enrolled'])*100,\n",
    "                    np.sum(df2['Mixed'])/np.sum(df2['Total_Enrolled'])*100,\n",
    "                    np.sum(df2['Asian'])/np.sum(df2['Total_Enrolled'])*100,\n",
    "                    np.sum(df2['NRA'])/np.sum(df2['Total_Enrolled'])*100,\n",
    "                    np.sum(df2['Unk'])/np.sum(df2['Total_Enrolled'])*100],               \n",
    "                    index = ['White','Black','Hisp_Latino','AI_AN','NHPI','Mixed','Asian','NRA','Unk'])\n",
    "\n",
    "df4.plot.bar(color='b', figsize=(20,10), legend=False, rot=0)\n",
    "plt.title('Percentage Enrolled By Ethniticity')\n",
    "\n",
    "plt.ylabel('Percent of Enrollment');"
   ]
  },
  {
   "cell_type": "markdown",
   "metadata": {},
   "source": [
    "#### White Enrollment is greater than 65%   \n",
    "#### Black Enrollment is greater than 9%\n",
    "#### Hispanic Enrollment is greater than 8%\n",
    "####  Asian Enrollment is around 5%\n"
   ]
  }
 ],
 "metadata": {
  "kernelspec": {
   "display_name": "Python 3",
   "language": "python",
   "name": "python3"
  },
  "language_info": {
   "codemirror_mode": {
    "name": "ipython",
    "version": 3
   },
   "file_extension": ".py",
   "mimetype": "text/x-python",
   "name": "python",
   "nbconvert_exporter": "python",
   "pygments_lexer": "ipython3",
   "version": "3.7.3"
  }
 },
 "nbformat": 4,
 "nbformat_minor": 4
}
